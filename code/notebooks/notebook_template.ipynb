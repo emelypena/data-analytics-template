{
 "cells": [
  {
   "cell_type": "markdown",
   "id": "4b9d2146-58a1-4005-acc8-e28ab4bb6eeb",
   "metadata": {},
   "source": [
    "# Project Name\n",
    "**Author:** Emely Pena\n",
    "**Last Modified:** 11-17-2024 (created: 11-13-2024)\n",
    "\n",
    "**Decription:** Short paragraph explaining this project"
   ]
  },
  {
   "cell_type": "markdown",
   "id": "5a456857-cb8b-4d5a-897e-56ab80cc79fe",
   "metadata": {},
   "source": [
    "<br>"
   ]
  },
  {
   "cell_type": "markdown",
   "id": "213ef363-5671-4abf-b63c-c5303a287ddc",
   "metadata": {},
   "source": [
    "Import libraries"
   ]
  },
  {
   "cell_type": "code",
   "execution_count": 15,
   "id": "9eb5604e-6990-4668-9c20-ce2f9b650f10",
   "metadata": {},
   "outputs": [],
   "source": [
    "import pandas as pd"
   ]
  },
  {
   "cell_type": "markdown",
   "id": "3f271e42-4e5d-4fb9-b9b1-acd4639ffc28",
   "metadata": {},
   "source": [
    "Load data:"
   ]
  },
  {
   "cell_type": "code",
   "execution_count": 17,
   "id": "13099b0a-5560-49e7-b7a3-7c34105a3c73",
   "metadata": {},
   "outputs": [],
   "source": [
    "#code to read csv file"
   ]
  }
 ],
 "metadata": {
  "kernelspec": {
   "display_name": "Python 3 (ipykernel)",
   "language": "python",
   "name": "python3"
  },
  "language_info": {
   "codemirror_mode": {
    "name": "ipython",
    "version": 3
   },
   "file_extension": ".py",
   "mimetype": "text/x-python",
   "name": "python",
   "nbconvert_exporter": "python",
   "pygments_lexer": "ipython3",
   "version": "3.12.4"
  }
 },
 "nbformat": 4,
 "nbformat_minor": 5
}
